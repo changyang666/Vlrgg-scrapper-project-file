{
 "cells": [
  {
   "cell_type": "code",
   "execution_count": 1,
   "metadata": {},
   "outputs": [],
   "source": [
    "import pandas as pd"
   ]
  },
  {
   "cell_type": "code",
   "execution_count": 3,
   "metadata": {},
   "outputs": [],
   "source": [
    "df = pd.read_csv('data_preprocessed.csv')"
   ]
  },
  {
   "cell_type": "code",
   "execution_count": 4,
   "metadata": {},
   "outputs": [
    {
     "name": "stdout",
     "output_type": "stream",
     "text": [
      "<class 'pandas.core.frame.DataFrame'>\n",
      "RangeIndex: 9240 entries, 0 to 9239\n",
      "Data columns (total 62 columns):\n",
      " #   Column       Non-Null Count  Dtype  \n",
      "---  ------       --------------  -----  \n",
      " 0   ct1_agent    9240 non-null   int64  \n",
      " 1   ct1_R        9240 non-null   float64\n",
      " 2   ct1_ACS      9240 non-null   float64\n",
      " 3   ct1_KAST     9240 non-null   float64\n",
      " 4   ct1_ADR      9240 non-null   float64\n",
      " 5   ct1_HS       9240 non-null   float64\n",
      " 6   ct2_agent    9240 non-null   int64  \n",
      " 7   ct2_R        9240 non-null   float64\n",
      " 8   ct2_ACS      9240 non-null   float64\n",
      " 9   ct2_KAST     9240 non-null   float64\n",
      " 10  ct2_ADR      9240 non-null   float64\n",
      " 11  ct2_HS       9240 non-null   float64\n",
      " 12  ct3_agent    9240 non-null   int64  \n",
      " 13  ct3_R        9240 non-null   float64\n",
      " 14  ct3_ACS      9240 non-null   float64\n",
      " 15  ct3_KAST     9240 non-null   float64\n",
      " 16  ct3_ADR      9240 non-null   float64\n",
      " 17  ct3_HS       9240 non-null   float64\n",
      " 18  ct4_agent    9240 non-null   int64  \n",
      " 19  ct4_R        9240 non-null   float64\n",
      " 20  ct4_ACS      9240 non-null   float64\n",
      " 21  ct4_KAST     9240 non-null   float64\n",
      " 22  ct4_ADR      9240 non-null   float64\n",
      " 23  ct4_HS       9240 non-null   float64\n",
      " 24  ct5_agent    9240 non-null   int64  \n",
      " 25  ct5_R        9240 non-null   float64\n",
      " 26  ct5_ACS      9240 non-null   float64\n",
      " 27  ct5_KAST     9240 non-null   float64\n",
      " 28  ct5_ADR      9240 non-null   float64\n",
      " 29  ct5_HS       9240 non-null   float64\n",
      " 30  t1_agent     9240 non-null   int64  \n",
      " 31  t1_R         9240 non-null   float64\n",
      " 32  t1_ACS       9240 non-null   float64\n",
      " 33  t1_KAST      9240 non-null   float64\n",
      " 34  t1_ADR       9240 non-null   float64\n",
      " 35  t1_HS        9240 non-null   float64\n",
      " 36  t2_agent     9240 non-null   int64  \n",
      " 37  t2_R         9240 non-null   float64\n",
      " 38  t2_ACS       9240 non-null   float64\n",
      " 39  t2_KAST      9240 non-null   float64\n",
      " 40  t2_ADR       9240 non-null   float64\n",
      " 41  t2_HS        9240 non-null   float64\n",
      " 42  t3_agent     9240 non-null   int64  \n",
      " 43  t3_R         9240 non-null   float64\n",
      " 44  t3_ACS       9240 non-null   float64\n",
      " 45  t3_KAST      9240 non-null   float64\n",
      " 46  t3_ADR       9240 non-null   float64\n",
      " 47  t3_HS        9240 non-null   float64\n",
      " 48  t4_agent     9240 non-null   int64  \n",
      " 49  t4_R         9240 non-null   float64\n",
      " 50  t4_ACS       9240 non-null   float64\n",
      " 51  t4_KAST      9240 non-null   float64\n",
      " 52  t4_ADR       9240 non-null   float64\n",
      " 53  t4_HS        9240 non-null   float64\n",
      " 54  t5_agent     9240 non-null   int64  \n",
      " 55  t5_R         9240 non-null   float64\n",
      " 56  t5_ACS       9240 non-null   float64\n",
      " 57  t5_KAST      9240 non-null   float64\n",
      " 58  t5_ADR       9240 non-null   float64\n",
      " 59  t5_HS        9240 non-null   float64\n",
      " 60  map          9240 non-null   int64  \n",
      " 61  winner_team  9240 non-null   int64  \n",
      "dtypes: float64(50), int64(12)\n",
      "memory usage: 4.4 MB\n"
     ]
    }
   ],
   "source": [
    "df.info()"
   ]
  },
  {
   "cell_type": "code",
   "execution_count": null,
   "metadata": {},
   "outputs": [],
   "source": []
  }
 ],
 "metadata": {
  "kernelspec": {
   "display_name": "Python 3",
   "language": "python",
   "name": "python3"
  },
  "language_info": {
   "codemirror_mode": {
    "name": "ipython",
    "version": 3
   },
   "file_extension": ".py",
   "mimetype": "text/x-python",
   "name": "python",
   "nbconvert_exporter": "python",
   "pygments_lexer": "ipython3",
   "version": "3.10.11"
  }
 },
 "nbformat": 4,
 "nbformat_minor": 2
}
